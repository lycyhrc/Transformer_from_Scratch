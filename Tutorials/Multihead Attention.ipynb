{
 "cells": [
  {
   "attachments": {},
   "cell_type": "markdown",
   "metadata": {},
   "source": [
    "# Keypoints\n",
    "\n",
    "💻 The multi-head attention mechanism is a crucial component of the Transformer architecture, and understanding its theory and implementation is essential for coding it effectively.\n",
    "\n",
    "💡 The multi-head attention system generates multiple attention matrices, each representing a probability distribution, to capture different aspects of the input sequence.\n",
    "\n",
    "🧠 The head dimension in multi-head attention exists because it combines the query, key, and value vectors, allowing for parallel operations on the sequences.\n",
    "\n",
    "🧯 Combining multiple heads in a transformer neural network allows them to communicate with each other, resulting in a more context-aware output vector.\n"
   ]
  },
  {
   "attachments": {},
   "cell_type": "markdown",
   "metadata": {},
   "source": [
    "# Multihead Attention"
   ]
  },
  {
   "cell_type": "code",
   "execution_count": 1,
   "metadata": {},
   "outputs": [],
   "source": [
    "import numpy as np\n",
    "import torch\n",
    "import torch.nn as nn\n",
    "import torch.nn.functional as F"
   ]
  },
  {
   "cell_type": "code",
   "execution_count": 3,
   "metadata": {},
   "outputs": [
    {
     "data": {
      "text/plain": [
       "torch.Size([1, 4, 512])"
      ]
     },
     "execution_count": 3,
     "metadata": {},
     "output_type": "execute_result"
    }
   ],
   "source": [
    "sequence_length = 4\n",
    "batch_size = 1\n",
    "input_dim = 512\n",
    "d_model = 512\n",
    "x = torch.randn((batch_size, sequence_length, input_dim)) # x : bt_size, seq_len, input_dim\n",
    "x.size()"
   ]
  },
  {
   "attachments": {},
   "cell_type": "markdown",
   "metadata": {},
   "source": [
    "输入数据形状为 `(batch_size, sequence_length, input_dim)`。这表示在每个epochs中，有 batch_size 个样本，每个样本是一个长度为 sequence_length 的序列，每个元素的维度为 input_dim。"
   ]
  },
  {
   "cell_type": "code",
   "execution_count": 4,
   "metadata": {},
   "outputs": [],
   "source": [
    "qkv_layer = nn.Linear(input_dim, 3 * d_model)"
   ]
  },
  {
   "attachments": {},
   "cell_type": "markdown",
   "metadata": {},
   "source": [
    "**问题：为什么要定义一个全连接层，而且输出维度为什么是 3 * d_model？**\n",
    "\n",
    "答案：因为需要从同一个输入 x 生成三个不同的向量：查询（Query）、键（Key）和值（Value）。这三个向量都通过 qkv_layer 生成，所以 qkv_layer 的输出实际上是这三个向量的集合。(一次生成，后续分开)"
   ]
  },
  {
   "cell_type": "code",
   "execution_count": 5,
   "metadata": {},
   "outputs": [
    {
     "data": {
      "text/plain": [
       "torch.Size([1, 4, 1536])"
      ]
     },
     "execution_count": 5,
     "metadata": {},
     "output_type": "execute_result"
    }
   ],
   "source": [
    "qkv = qkv_layer(x)  # linear只有最会维度进行变化 （*，H_in）---> (*,H_out)\n",
    "qkv.shape"
   ]
  },
  {
   "cell_type": "code",
   "execution_count": 6,
   "metadata": {},
   "outputs": [
    {
     "data": {
      "text/plain": [
       "Text(0.5, 1.0, 'qkv distribution')"
      ]
     },
     "execution_count": 6,
     "metadata": {},
     "output_type": "execute_result"
    },
    {
     "data": {
      "image/png": "[encoded data removed]",
      "text/plain": [
       "<Figure size 640x480 with 1 Axes>"
      ]
     },
     "metadata": {},
     "output_type": "display_data"
    }
   ],
   "source": [
    "import matplotlib.pyplot as plt\n",
    "y_val = torch.histc(qkv, bins = 200, min=-3, max=3)\n",
    "x_val = np.arange(-1, 1, 0.01) *3\n",
    "plt.bar(x_val, y_val, align='center',color=['forestgreen'])\n",
    "plt.title('qkv distribution')"
   ]
  },
  {
   "attachments": {},
   "cell_type": "markdown",
   "metadata": {},
   "source": [
    "**问题：为什么要查看 qkv 的分布？**\n",
    "\n",
    "答案：查看 qkv 的分布有助于我们理解模型的内部状态和行为。例如，如果分布非常偏斜或集中在某个特定的范围内，那么可能需要调整模型参数或使用不同的初始化策略。此外，这也可以帮助我们调试模型，确认是否有意外的行为（如值的爆炸或消失）。"
   ]
  },
  {
   "attachments": {},
   "cell_type": "markdown",
   "metadata": {},
   "source": [
    "**问：qkv只是一个[1, 4, 1536]第向量，如何计算分布的？**\n",
    "\n",
    "torch.histc 函数会将张量视为一个一维的数据流，并对所有的数据点进行统计。\n",
    "\n",
    "为了更好地理解这个过程，我们可以将其拆解为以下步骤：\n",
    "\n",
    "首先，torch.histc 函数会将 qkv 张量中的所有元素拉平成一个一维的数组。在例子中，得到一个具有 1 * 4 * 1536 = 6144 个元素的数组。\n",
    "接着，torch.histc 函数会对这个数组中的元素进行分箱统计。bins 参数定义了分箱的数量，min 和 max 参数定义了分箱的范围。在你的例子中，这将把所有的元素分到 200 个箱子中，每个箱子的范围是 (-3, 3)。\n",
    "最后，torch.histc 函数会返回一个数组，其中每个元素表示对应箱子中的元素数量。\n"
   ]
  },
  {
   "cell_type": "code",
   "execution_count": 7,
   "metadata": {},
   "outputs": [
    {
     "data": {
      "text/plain": [
       "torch.Size([1, 4, 8, 192])"
      ]
     },
     "execution_count": 7,
     "metadata": {},
     "output_type": "execute_result"
    }
   ],
   "source": [
    "num_heads = 8\n",
    "head_dim = d_model // num_heads # 1536/8 = 192\n",
    "qkv = qkv.reshape(batch_size, sequence_length, num_heads, 3 * head_dim)\n",
    "qkv.shape"
   ]
  },
  {
   "attachments": {},
   "cell_type": "markdown",
   "metadata": {},
   "source": [
    "qkv 被重塑和拆分成 num_heads 个头，每个头的维度是 head_dim。每个头使用的 q、k、v 是全体 q、k、v 经过线性变换后的部分数据，而不是直接从原始的 q、k、v 中取一部分"
   ]
  },
  {
   "attachments": {},
   "cell_type": "markdown",
   "metadata": {},
   "source": [
    "**问题：为什么要改变 qkv 的形状？**\n",
    "\n",
    "答案：在多头注意力机制中，输入的 d_model 维度的数据会被分成多个“头”，每个头处理一部分信息。这样可以让模型在处理输入时更加灵活，因为每个头可以学习并专注于捕获不同的信息"
   ]
  },
  {
   "attachments": {},
   "cell_type": "markdown",
   "metadata": {},
   "source": [
    "**问题：为什么在最后一个维度上将数据划分为了 num_heads 个部分？**\n",
    "\n",
    "答案：在深度学习模型中，最后一个维度通常用来表示数据的特征，而前面的维度则用来表示数据的结构。在这个上下文中，num_heads 是我们的“头”的数量，每个“头”都需要处理一部分特征。因此，我们在最后一个维度上将数据划分为了 num_heads 个部分。\n",
    "\n",
    "这样做的好处是，可以让我们在后续的计算中，更方便地处理每个“头”的数据。例如，当我们需要计算每个“头”的注意力权重时，我们可以直接对最后一个维度（即 3 * head_dim）进行操作，而不需要关心“头”的数量。"
   ]
  },
  {
   "cell_type": "code",
   "execution_count": 8,
   "metadata": {},
   "outputs": [
    {
     "data": {
      "text/plain": [
       "torch.Size([1, 8, 4, 192])"
      ]
     },
     "execution_count": 8,
     "metadata": {},
     "output_type": "execute_result"
    }
   ],
   "source": [
    "qkv = qkv.permute(0,2,1,3)\n",
    "qkv.shape"
   ]
  },
  {
   "attachments": {},
   "cell_type": "markdown",
   "metadata": {},
   "source": [
    "通过将 qkv 的维度重排列为 `(batch_size, num_heads, sequence_length, 3 * head_dim)`，我们可以更方便地处理每个头的数据，因为现在每个头的数据都在连续的内存位置中。"
   ]
  },
  {
   "cell_type": "code",
   "execution_count": 9,
   "metadata": {},
   "outputs": [
    {
     "data": {
      "text/plain": [
       "(torch.Size([1, 8, 4, 64]),\n",
       " torch.Size([1, 8, 4, 64]),\n",
       " torch.Size([1, 8, 4, 64]))"
      ]
     },
     "execution_count": 9,
     "metadata": {},
     "output_type": "execute_result"
    }
   ],
   "source": [
    "q, k, v = qkv.chunk(3, dim = -1)\n",
    "q.shape, k.shape, v.shape"
   ]
  },
  {
   "attachments": {},
   "cell_type": "markdown",
   "metadata": {},
   "source": [
    "# Self Attention for multiple heads\n",
    "\n",
    "For a single head:"
   ]
  },
  {
   "attachments": {},
   "cell_type": "markdown",
   "metadata": {},
   "source": [
    "$$\n",
    "\\begin{aligned}\n",
    "\\text { self attention } & =\\operatorname{softmax}\\left(\\frac{Q \\cdot K^T}{\\sqrt{d_k}}+M\\right) \\\\\n",
    "\\text { new } \\mathrm{V} & =\\text { self attention. } V\n",
    "\\end{aligned}\n",
    "$$\n"
   ]
  },
  {
   "cell_type": "code",
   "execution_count": 10,
   "metadata": {},
   "outputs": [
    {
     "data": {
      "text/plain": [
       "torch.Size([1, 8, 4, 4])"
      ]
     },
     "execution_count": 10,
     "metadata": {},
     "output_type": "execute_result"
    }
   ],
   "source": [
    "import math\n",
    "\n",
    "d_k = q.size()[-1]\n",
    "scaled = torch.matmul(q, k.transpose(-2, -1)) / math.sqrt(d_k)  # 1，8，4，64 * 1，8，64，4 ---> 1,8,4,4\n",
    "scaled.shape"
   ]
  },
  {
   "attachments": {},
   "cell_type": "markdown",
   "metadata": {},
   "source": [
    "**问题：为什么要计算缩放的点积注意力，以及为什么要对结果进行缩放？**\n",
    "\n",
    "答案：在 Transformer 模型的注意力机制中，我们使用查询 `q` 和键 `k` 的点积来计算注意力权重。然而，当查询和键的维度 $d_k$ 较大时，点积的结果可能会非常大，这会导致 softmax 函数（通常用于计算注意力权重）在反向传播时梯度消失，从而影响模型的训练。\n",
    "\n",
    "为了解决这个问题，我们引入了缩放因子 $1/\\sqrt(d_k)$。这个缩放因子可以确保点积的结果在一个合理的范围内，从而避免 softmax 函数的梯度消失问题。"
   ]
  },
  {
   "attachments": {},
   "cell_type": "markdown",
   "metadata": {},
   "source": [
    "scaled 的形状 `(batch_size, num_heads, sequence_length, sequence_length)`。因为这是在最后两个维度上进行的矩阵乘法，即对于每个头和每个批次的数据，我们都计算了所有查询和键的点积。"
   ]
  },
  {
   "cell_type": "code",
   "execution_count": 11,
   "metadata": {},
   "outputs": [
    {
     "name": "stdout",
     "output_type": "stream",
     "text": [
      "y: tensor([[ 0.9286, -0.2131, -1.0884],\n",
      "        [ 1.2531,  0.7147, -0.6907]])\n",
      "y transpose: tensor([[ 0.9286,  1.2531],\n",
      "        [-0.2131,  0.7147],\n",
      "        [-1.0884, -0.6907]])\n"
     ]
    }
   ],
   "source": [
    "# 补充\n",
    "y = torch.randn(2, 3)\n",
    "print(f\"y: {y}\")\n",
    "print(f\"y transpose: {torch.transpose(y, 1, 0)}\")"
   ]
  },
  {
   "attachments": {},
   "cell_type": "markdown",
   "metadata": {},
   "source": [
    "**问题：为什么多维度张量需要使用 PyTorch 的 transpose 或 permute 函数进行转置，而不能使用 NumPy 的 T 属性？**\n",
    "\n",
    "答案：NumPy 的 T 属性和 transpose 函数在处理二维数组（即矩阵）时表现得很好，它们可以将二维数组的行和列进行交换。然而，对于高于二维的数组，T 属性只会反转维度的顺序，这可能并不是我们想要的结果。\n",
    "\n",
    "例如，对于一个形状为 (a, b, c) 的三维数组，T 属性会得到一个形状为 (c, b, a) 的数组。但在许多情况下，我们可能希望交换其他两个维度，如 (a, c, b) 或 (b, a, c)，这时就需要使用 transpose 或 permute 函数了。\n",
    "\n",
    "PyTorch 的 transpose 和 permute 函数提供了更强大的功能，它们可以交换张量的任意两个维度，或者重新排列所有维度的顺序。"
   ]
  },
  {
   "cell_type": "code",
   "execution_count": 12,
   "metadata": {},
   "outputs": [
    {
     "name": "stdout",
     "output_type": "stream",
     "text": [
      "All head masked: tensor([[[[0., -inf, -inf, -inf],\n",
      "          [0., 0., -inf, -inf],\n",
      "          [0., 0., 0., -inf],\n",
      "          [0., 0., 0., 0.]],\n",
      "\n",
      "         [[0., -inf, -inf, -inf],\n",
      "          [0., 0., -inf, -inf],\n",
      "          [0., 0., 0., -inf],\n",
      "          [0., 0., 0., 0.]],\n",
      "\n",
      "         [[0., -inf, -inf, -inf],\n",
      "          [0., 0., -inf, -inf],\n",
      "          [0., 0., 0., -inf],\n",
      "          [0., 0., 0., 0.]],\n",
      "\n",
      "         [[0., -inf, -inf, -inf],\n",
      "          [0., 0., -inf, -inf],\n",
      "          [0., 0., 0., -inf],\n",
      "          [0., 0., 0., 0.]],\n",
      "\n",
      "         [[0., -inf, -inf, -inf],\n",
      "          [0., 0., -inf, -inf],\n",
      "          [0., 0., 0., -inf],\n",
      "          [0., 0., 0., 0.]],\n",
      "\n",
      "         [[0., -inf, -inf, -inf],\n",
      "          [0., 0., -inf, -inf],\n",
      "          [0., 0., 0., -inf],\n",
      "          [0., 0., 0., 0.]],\n",
      "\n",
      "         [[0., -inf, -inf, -inf],\n",
      "          [0., 0., -inf, -inf],\n",
      "          [0., 0., 0., -inf],\n",
      "          [0., 0., 0., 0.]],\n",
      "\n",
      "         [[0., -inf, -inf, -inf],\n",
      "          [0., 0., -inf, -inf],\n",
      "          [0., 0., 0., -inf],\n",
      "          [0., 0., 0., 0.]]]])\n",
      "Single head masked: tensor([[0., -inf, -inf, -inf],\n",
      "        [0., 0., -inf, -inf],\n",
      "        [0., 0., 0., -inf],\n",
      "        [0., 0., 0., 0.]])\n"
     ]
    }
   ],
   "source": [
    "## 生成masked\n",
    "mask = torch.full(scaled.size(), float('-inf'))\n",
    "mask = torch.triu(mask, diagonal=1)\n",
    "print(f\"All head masked: {mask}\")\n",
    "print(f\"Single head masked: {mask[0][1]}\") # mask for input to a single head"
   ]
  },
  {
   "attachments": {},
   "cell_type": "markdown",
   "metadata": {},
   "source": [
    "**问题：mask[0][1] 具体表示什么？**\n",
    "\n",
    "答案：在这个上下文中，mask[0][1] 用于选择 mask 张量中第一个批次（batch）的第二个头（head）的遮罩。在多头注意力机制中，每个批次包含多个头，每个头都有自己的查询、键和值向量，以及对应的遮罩。这里，mask[0][1] 就是选择了第一个批次的第二个头的遮罩。"
   ]
  },
  {
   "cell_type": "code",
   "execution_count": 13,
   "metadata": {},
   "outputs": [
    {
     "data": {
      "text/plain": [
       "tensor([[ 0.2548,    -inf,    -inf,    -inf],\n",
       "        [ 0.7148,  0.7982,    -inf,    -inf],\n",
       "        [ 0.0151,  0.1546,  0.6325,    -inf],\n",
       "        [-0.2733, -0.6332, -0.1531,  0.1882]], grad_fn=<SelectBackward0>)"
      ]
     },
     "execution_count": 13,
     "metadata": {},
     "output_type": "execute_result"
    }
   ],
   "source": [
    "(scaled + mask) [0][0] "
   ]
  },
  {
   "attachments": {},
   "cell_type": "markdown",
   "metadata": {},
   "source": [
    "**问题：为什么需要创建这样的 mask 张量，它的作用是什么？**\n",
    "\n",
    "答案：这个 mask 张量是用于遮罩序列的一部分，防止模型看到序列的未来信息。在自然语言处理任务中，特别是在训练语言模型时，我们希望模型在预测下一个词时，只能看到当前词及其之前的词，而不能看到未来的词。这样的遮罩可以帮助我们实现这个目标。\n",
    "\n",
    "具体来说，mask 张量的上**三角部分是负无穷，表示序列的未来信息；下三角部分是零**，表示序列的当前和过去的信息。当我们在计算注意力权重时，将这个 mask 添加到 scaled 上，因为 softmax 函数对于负无穷的输入会输出零，所以模型就无法看到序列的未来信息了。"
   ]
  },
  {
   "cell_type": "code",
   "execution_count": 14,
   "metadata": {},
   "outputs": [],
   "source": [
    "scaled = scaled + mask # multi head  attention score matrix with masked"
   ]
  },
  {
   "cell_type": "code",
   "execution_count": 15,
   "metadata": {},
   "outputs": [
    {
     "data": {
      "text/plain": [
       "tensor([[1.0000, 0.0000, 0.0000, 0.0000],\n",
       "        [0.4792, 0.5208, 0.0000, 0.0000],\n",
       "        [0.2498, 0.2871, 0.4631, 0.0000],\n",
       "        [0.2266, 0.1582, 0.2556, 0.3596]], grad_fn=<SelectBackward0>)"
      ]
     },
     "execution_count": 15,
     "metadata": {},
     "output_type": "execute_result"
    }
   ],
   "source": [
    "attention = F.softmax(scaled, dim=-1)  # scaled to [0, 1]\n",
    "attention[0][0]"
   ]
  },
  {
   "cell_type": "code",
   "execution_count": 16,
   "metadata": {},
   "outputs": [
    {
     "name": "stdout",
     "output_type": "stream",
     "text": [
      "attention size: torch.Size([1, 8, 4, 4]), values size: torch.Size([1, 8, 4, 64])\n"
     ]
    }
   ],
   "source": [
    "print(f\"attention size: {attention.size()}, values size: {v.size()}\")"
   ]
  },
  {
   "cell_type": "code",
   "execution_count": 17,
   "metadata": {},
   "outputs": [
    {
     "data": {
      "text/plain": [
       "torch.Size([1, 8, 4, 64])"
      ]
     },
     "execution_count": 17,
     "metadata": {},
     "output_type": "execute_result"
    }
   ],
   "source": [
    "values = torch.matmul(attention, v) # attention score * values\n",
    "values.shape"
   ]
  },
  {
   "attachments": {},
   "cell_type": "markdown",
   "metadata": {},
   "source": [
    "# Function"
   ]
  },
  {
   "cell_type": "code",
   "execution_count": 18,
   "metadata": {},
   "outputs": [],
   "source": [
    "import math\n",
    "\n",
    "def scaled_dot_product(q, k, v, mask=None):\n",
    "    d_k=q.size()[-1]\n",
    "    scaled = torch.matmul(q, k.transpose(-1,-2))/math.sqrt(d_k)\n",
    "    if mask is not None:\n",
    "        scaled += mask\n",
    "    attention = F.softmax(scaled,dim=-1)\n",
    "    values = torch.matmul(attention, v)\n",
    "    return values, attention"
   ]
  },
  {
   "cell_type": "code",
   "execution_count": 19,
   "metadata": {},
   "outputs": [
    {
     "data": {
      "text/plain": [
       "torch.Size([1, 8, 4, 4])"
      ]
     },
     "execution_count": 19,
     "metadata": {},
     "output_type": "execute_result"
    }
   ],
   "source": [
    "values, attention = scaled_dot_product(q, k, v, mask=None)\n",
    "attention.shape"
   ]
  },
  {
   "cell_type": "code",
   "execution_count": 20,
   "metadata": {},
   "outputs": [
    {
     "data": {
      "text/plain": [
       "tensor([[0.2764, 0.2697, 0.2149, 0.2389],\n",
       "        [0.2994, 0.3255, 0.1295, 0.2455],\n",
       "        [0.2013, 0.2314, 0.3732, 0.1941],\n",
       "        [0.2266, 0.1582, 0.2556, 0.3596]], grad_fn=<SelectBackward0>)"
      ]
     },
     "execution_count": 20,
     "metadata": {},
     "output_type": "execute_result"
    }
   ],
   "source": [
    "attention[0][0]"
   ]
  },
  {
   "cell_type": "code",
   "execution_count": 21,
   "metadata": {},
   "outputs": [
    {
     "data": {
      "text/plain": [
       "torch.Size([1, 8, 4, 64])"
      ]
     },
     "execution_count": 21,
     "metadata": {},
     "output_type": "execute_result"
    }
   ],
   "source": [
    "values.size()"
   ]
  },
  {
   "cell_type": "code",
   "execution_count": 22,
   "metadata": {},
   "outputs": [
    {
     "data": {
      "text/plain": [
       "torch.Size([1, 4, 512])"
      ]
     },
     "execution_count": 22,
     "metadata": {},
     "output_type": "execute_result"
    }
   ],
   "source": [
    "values = values.reshape(batch_size, sequence_length, num_heads*head_dim)\n",
    "values.size()"
   ]
  },
  {
   "cell_type": "code",
   "execution_count": 23,
   "metadata": {},
   "outputs": [
    {
     "data": {
      "text/plain": [
       "Linear(in_features=512, out_features=512, bias=True)"
      ]
     },
     "execution_count": 23,
     "metadata": {},
     "output_type": "execute_result"
    }
   ],
   "source": [
    "linear_layer = nn.Linear(d_model,d_model)\n",
    "linear_layer"
   ]
  },
  {
   "cell_type": "code",
   "execution_count": 24,
   "metadata": {},
   "outputs": [
    {
     "data": {
      "text/plain": [
       "torch.Size([1, 4, 512])"
      ]
     },
     "execution_count": 24,
     "metadata": {},
     "output_type": "execute_result"
    }
   ],
   "source": [
    "out = linear_layer(values)\n",
    "out.shape"
   ]
  },
  {
   "cell_type": "code",
   "execution_count": 25,
   "metadata": {},
   "outputs": [
    {
     "data": {
      "text/plain": [
       "tensor([[[-0.3412,  0.2449,  0.2114,  ..., -0.2294,  0.0139,  0.0105],\n",
       "         [-0.1401,  0.0268, -0.0720,  ..., -0.1523,  0.2122,  0.0164],\n",
       "         [-0.0465,  0.1051, -0.0417,  ...,  0.1026,  0.1103, -0.0321],\n",
       "         [-0.0727, -0.0463,  0.0377,  ..., -0.1145,  0.2986,  0.2640]]],\n",
       "       grad_fn=<ViewBackward0>)"
      ]
     },
     "execution_count": 25,
     "metadata": {},
     "output_type": "execute_result"
    }
   ],
   "source": [
    "out"
   ]
  },
  {
   "attachments": {},
   "cell_type": "markdown",
   "metadata": {},
   "source": [
    "# (All) MultiheadAttention"
   ]
  },
  {
   "cell_type": "code",
   "execution_count": 26,
   "metadata": {},
   "outputs": [],
   "source": [
    "import torch\n",
    "import torch.nn as nn\n",
    "import math\n",
    "\n",
    "def scaled_dot_product(q, k ,v, mask=None):\n",
    "    d_k = q.size()[-1]\n",
    "    scaled = torch.matmul(q, k.transpose(-1, -2)) / math.sqrt(d_k)\n",
    "    if mask is not None:\n",
    "        scaled += mask\n",
    "    attention = F.softmax(scaled, dim=-1)\n",
    "    values = torch.matmul(attention, v)\n",
    "    return values, attention\n",
    "\n",
    "class MultiheadAttention(nn.Module):\n",
    "\n",
    "    def __init__(self, input_dim, d_model, num_heads):\n",
    "        super().__init__()\n",
    "        self.input_dim = input_dim\n",
    "        self.d_model = d_model\n",
    "        self.num_heads = num_heads\n",
    "\n",
    "        self.head_dim = d_model //num_heads\n",
    "        self.qkv_layer = nn.Linear(input_dim, 3*d_model)\n",
    "        self.linear_layer = nn.Linear(d_model, d_model)\n",
    "    \n",
    "    def forward(self, x, mask = None):\n",
    "        batch_size, sequence_length, input_dim = x.size()\n",
    "        print(f\"x.size(): {x.size()}\")\n",
    "\n",
    "        qkv = self.qkv_layer(x)\n",
    "        print(f\"qkv.size(): {qkv.size()}\")\n",
    "\n",
    "        qkv = qkv.reshape(batch_size, sequence_length, self.num_heads, 3*self.head_dim)\n",
    "        print(f\"qkv.size(): {qkv.size()}\")\n",
    "\n",
    "        qkv  = qkv.permute(0, 2, 1, 3)\n",
    "        print(f\"qkv.size(): {qkv.size()}\")\n",
    "\n",
    "        q, k, v = qkv.chunk(3, dim = -1)\n",
    "        print(f\"q size:{q.size()}, k size:{k.size()}, v size:{v.size()}\")\n",
    "\n",
    "        values, attention = scaled_dot_product(q, k, v, mask)\n",
    "        print(f\"values.size(): {values.size()}, attention size: {attention.size()}\")\n",
    "\n",
    "        values = values.reshape(batch_size, sequence_length, self.num_heads*self.head_dim)\n",
    "        print(f\"values.size(): {values.size()}\")\n",
    "\n",
    "        out = self.linear_layer(values)\n",
    "        print(f\"out.size(): {out.size()}\")\n",
    "        return out\n"
   ]
  },
  {
   "attachments": {},
   "cell_type": "markdown",
   "metadata": {},
   "source": [
    "# Input without mask"
   ]
  },
  {
   "cell_type": "code",
   "execution_count": 27,
   "metadata": {},
   "outputs": [
    {
     "name": "stdout",
     "output_type": "stream",
     "text": [
      "x.size(): torch.Size([30, 5, 1024])\n",
      "qkv.size(): torch.Size([30, 5, 1536])\n",
      "qkv.size(): torch.Size([30, 5, 8, 192])\n",
      "qkv.size(): torch.Size([30, 8, 5, 192])\n",
      "q size:torch.Size([30, 8, 5, 64]), k size:torch.Size([30, 8, 5, 64]), v size:torch.Size([30, 8, 5, 64])\n",
      "values.size(): torch.Size([30, 8, 5, 64]), attention size: torch.Size([30, 8, 5, 5])\n",
      "values.size(): torch.Size([30, 5, 512])\n",
      "out.size(): torch.Size([30, 5, 512])\n"
     ]
    }
   ],
   "source": [
    "input_dim = 1024\n",
    "d_model = 512\n",
    "num_heads = 8\n",
    "\n",
    "batch_size = 30\n",
    "sequence_length = 5\n",
    "x = torch.randn((batch_size, sequence_length, input_dim))\n",
    "\n",
    "model = MultiheadAttention(input_dim, d_model, num_heads)\n",
    "out = model.forward(x)\n"
   ]
  },
  {
   "cell_type": "code",
   "execution_count": 28,
   "metadata": {},
   "outputs": [
    {
     "data": {
      "text/plain": [
       "tensor([[[ 7.5284e-02,  1.2722e-01,  2.4985e-01,  ..., -2.1212e-01,\n",
       "          -1.4147e-01,  5.2860e-02],\n",
       "         [-1.2464e-01, -1.4993e-01, -1.1479e-01,  ..., -2.9906e-02,\n",
       "          -6.3602e-03,  1.9076e-01],\n",
       "         [-1.1769e-01, -9.4000e-02,  9.0091e-02,  ...,  8.0865e-02,\n",
       "           4.6137e-02, -1.1308e-01],\n",
       "         [ 8.9524e-02,  5.5354e-02, -3.9023e-02,  ...,  3.1260e-02,\n",
       "          -1.2758e-01, -3.8482e-02],\n",
       "         [-1.5184e-01, -5.3139e-02, -1.8266e-01,  ..., -1.0104e-01,\n",
       "           3.0766e-01,  1.0210e-01]],\n",
       "\n",
       "        [[-5.6526e-02,  3.8834e-01, -1.2390e-02,  ..., -5.9704e-02,\n",
       "           2.3768e-01, -2.9467e-02],\n",
       "         [ 1.2905e-01,  2.2574e-02,  7.2760e-02,  ...,  3.4676e-03,\n",
       "          -6.2535e-02,  1.4201e-01],\n",
       "         [ 1.7856e-01, -4.9391e-02,  6.3659e-02,  ..., -1.6452e-01,\n",
       "          -9.0021e-02, -1.3106e-01],\n",
       "         [ 1.4727e-01,  9.4759e-03, -2.9079e-01,  ...,  5.3035e-02,\n",
       "          -1.2689e-01,  2.4708e-01],\n",
       "         [-2.3948e-02,  3.7071e-02, -8.5224e-02,  ..., -6.0736e-02,\n",
       "          -4.0356e-02, -2.0263e-01]],\n",
       "\n",
       "        [[-9.9209e-02,  1.4457e-01,  1.2916e-01,  ..., -1.3547e-01,\n",
       "           2.9630e-01, -1.3439e-01],\n",
       "         [ 2.0039e-01, -1.7372e-01,  7.3501e-02,  ..., -2.1457e-01,\n",
       "          -7.8606e-02, -2.2041e-01],\n",
       "         [-1.0347e-02,  6.2543e-03,  1.2217e-01,  ..., -3.8167e-01,\n",
       "          -9.1258e-02, -1.2748e-01],\n",
       "         [ 7.3079e-02, -1.4386e-01, -1.3951e-02,  ..., -1.7582e-01,\n",
       "           5.1970e-02,  5.1082e-02],\n",
       "         [-7.4195e-02, -3.7951e-03, -6.0524e-02,  ..., -1.0862e-01,\n",
       "          -2.0819e-03,  1.7469e-01]],\n",
       "\n",
       "        ...,\n",
       "\n",
       "        [[ 1.2739e-01, -4.0455e-02,  2.0003e-01,  ...,  2.0781e-01,\n",
       "           8.3078e-02,  1.4658e-01],\n",
       "         [-1.4010e-01, -1.8082e-01,  6.8605e-02,  ...,  4.8183e-03,\n",
       "          -7.9992e-02,  9.1744e-02],\n",
       "         [-1.4348e-01, -2.8711e-02, -6.9014e-02,  ..., -8.9810e-02,\n",
       "           1.7543e-01,  3.8294e-04],\n",
       "         [-2.8533e-02,  4.4199e-03,  8.1753e-02,  ..., -2.6650e-01,\n",
       "          -6.1190e-02,  1.6527e-01],\n",
       "         [ 9.3710e-02,  1.1338e-02, -1.1004e-02,  ...,  4.5200e-02,\n",
       "           2.1608e-01, -1.0056e-01]],\n",
       "\n",
       "        [[-9.1423e-02,  2.4725e-01, -2.5480e-01,  ...,  7.3778e-02,\n",
       "          -3.7986e-01, -4.4736e-02],\n",
       "         [-2.8415e-01, -2.8046e-02,  1.3098e-01,  ..., -2.2916e-01,\n",
       "          -8.6993e-02, -6.3826e-02],\n",
       "         [ 2.4611e-01, -1.8869e-01,  3.5635e-01,  ...,  1.1057e-02,\n",
       "          -3.1153e-01, -8.1883e-02],\n",
       "         [-7.7056e-02, -7.9658e-02,  1.6744e-01,  ..., -9.7499e-02,\n",
       "           1.0359e-01, -5.0383e-02],\n",
       "         [-1.2270e-01,  1.4218e-01,  8.5103e-02,  ...,  2.4662e-01,\n",
       "          -8.8586e-04, -4.5084e-02]],\n",
       "\n",
       "        [[-2.6870e-01,  1.6422e-01,  4.7651e-02,  ..., -4.9240e-02,\n",
       "           3.5884e-01, -5.4511e-02],\n",
       "         [ 1.7895e-01,  1.7038e-01,  4.1670e-02,  ...,  1.3283e-01,\n",
       "          -2.7424e-01,  1.1805e-01],\n",
       "         [ 2.4595e-01, -3.6187e-02,  1.3643e-01,  ...,  1.1451e-01,\n",
       "           1.0459e-01, -8.9542e-02],\n",
       "         [ 9.0449e-02,  3.3295e-02, -2.9386e-01,  ..., -8.6094e-02,\n",
       "          -1.0355e-01, -2.8783e-02],\n",
       "         [-1.1242e-01,  1.1759e-01, -1.1835e-01,  ..., -9.4781e-02,\n",
       "          -3.0517e-02,  1.1291e-01]]], grad_fn=<ViewBackward0>)"
      ]
     },
     "execution_count": 28,
     "metadata": {},
     "output_type": "execute_result"
    }
   ],
   "source": [
    "out"
   ]
  },
  {
   "attachments": {},
   "cell_type": "markdown",
   "metadata": {},
   "source": [
    "# Input with mask"
   ]
  },
  {
   "cell_type": "code",
   "execution_count": 29,
   "metadata": {},
   "outputs": [
    {
     "name": "stdout",
     "output_type": "stream",
     "text": [
      "x.size(): torch.Size([30, 5, 1024])\n",
      "qkv.size(): torch.Size([30, 5, 1536])\n",
      "qkv.size(): torch.Size([30, 5, 8, 192])\n",
      "qkv.size(): torch.Size([30, 8, 5, 192])\n",
      "q size:torch.Size([30, 8, 5, 64]), k size:torch.Size([30, 8, 5, 64]), v size:torch.Size([30, 8, 5, 64])\n",
      "values.size(): torch.Size([30, 8, 5, 64]), attention size: torch.Size([30, 8, 5, 5])\n",
      "values.size(): torch.Size([30, 5, 512])\n",
      "out.size(): torch.Size([30, 5, 512])\n"
     ]
    }
   ],
   "source": [
    "input_dim = 1024\n",
    "d_model = 512\n",
    "num_heads = 8\n",
    "\n",
    "batch_size = 30\n",
    "sequence_length = 5\n",
    "# x = torch.randn((batch_size, sequence_length, input_dim))  add masked\n",
    "\n",
    "model = MultiheadAttention(input_dim, d_model, num_heads)\n",
    "\n",
    "mask = (torch.triu(torch.ones((batch_size, 1, sequence_length, sequence_length))) == 1).transpose(-1, -2)\n",
    "mask = mask.float().masked_fill(mask == 0, float('-inf')).masked_fill(mask == 1, float(0.0))\n",
    "\n",
    "out = model.forward(x, mask)"
   ]
  },
  {
   "cell_type": "code",
   "execution_count": 30,
   "metadata": {},
   "outputs": [
    {
     "data": {
      "text/plain": [
       "tensor([[[ 1.3427e-01,  1.8508e-03,  3.1447e-01,  ..., -3.6402e-01,\n",
       "           1.1125e-01, -2.2567e-02],\n",
       "         [-1.1818e-01,  8.7459e-02,  1.8139e-01,  ...,  1.9198e-01,\n",
       "           9.0766e-02,  3.3462e-01],\n",
       "         [ 3.8551e-01, -2.0970e-02, -1.3621e-02,  ...,  6.1666e-02,\n",
       "          -1.3019e-02,  1.5994e-01],\n",
       "         [ 1.2894e-01,  2.1139e-01, -6.2112e-02,  ...,  5.1420e-02,\n",
       "           8.0267e-02,  1.4966e-01],\n",
       "         [-6.8595e-01,  3.3024e-01, -1.0399e-01,  ..., -3.8271e-01,\n",
       "           8.9425e-02, -1.1681e-01]],\n",
       "\n",
       "        [[ 8.5313e-02,  2.0682e-01,  9.9087e-03,  ..., -1.1775e-01,\n",
       "          -2.0251e-01, -3.3115e-01],\n",
       "         [ 4.1339e-01,  8.4770e-02,  1.2837e-03,  ...,  4.0821e-01,\n",
       "          -1.6438e-01,  1.2384e-01],\n",
       "         [-5.5205e-02, -5.0865e-01,  2.9354e-01,  ...,  4.7963e-01,\n",
       "          -1.7520e-01, -2.5475e-02],\n",
       "         [ 2.2127e-01,  1.0342e-01, -2.5137e-01,  ...,  3.1584e-01,\n",
       "          -5.5105e-02, -3.1359e-01],\n",
       "         [-7.9030e-02, -1.8711e-01,  6.1984e-02,  ..., -1.1434e-01,\n",
       "          -1.2354e-01, -1.3375e-01]],\n",
       "\n",
       "        [[ 5.2905e-02, -2.6395e-01, -2.0207e-01,  ..., -2.9690e-01,\n",
       "          -5.6637e-02, -5.0725e-02],\n",
       "         [ 3.7682e-01, -1.8872e-01,  3.8592e-01,  ...,  4.4001e-02,\n",
       "          -3.8609e-04,  3.6950e-01],\n",
       "         [-1.1478e-01,  1.0126e-01,  1.5504e-01,  ...,  2.4204e-02,\n",
       "          -1.4982e-01,  6.6195e-02],\n",
       "         [ 1.9947e-01, -2.2834e-01,  3.1641e-01,  ...,  4.5814e-01,\n",
       "          -5.2437e-02, -8.1786e-02],\n",
       "         [ 8.8090e-02,  2.3792e-01, -6.4968e-02,  ..., -1.8648e-01,\n",
       "          -3.3943e-02, -2.2735e-01]],\n",
       "\n",
       "        ...,\n",
       "\n",
       "        [[ 9.6233e-03,  1.5329e-01,  2.3566e-01,  ..., -5.0566e-02,\n",
       "           4.1958e-01,  2.4529e-01],\n",
       "         [-2.4768e-01,  5.5671e-02, -3.7979e-02,  ..., -4.3241e-01,\n",
       "          -2.4911e-01, -2.7028e-01],\n",
       "         [ 2.1640e-01,  9.0386e-02,  2.2395e-01,  ...,  2.6138e-01,\n",
       "          -1.0001e-01, -2.7728e-01],\n",
       "         [ 1.8337e-02,  2.5636e-01, -5.3120e-02,  ...,  4.1417e-01,\n",
       "           7.3701e-02, -3.9133e-02],\n",
       "         [-2.2251e-01, -1.7144e-01,  2.3460e-01,  ...,  1.6446e-01,\n",
       "          -4.4295e-02,  1.9147e-01]],\n",
       "\n",
       "        [[ 2.8300e-01,  1.0699e-01, -6.9333e-02,  ..., -6.6002e-01,\n",
       "           8.1981e-02, -2.1227e-01],\n",
       "         [ 2.3102e-01,  2.3151e-01, -9.9720e-02,  ...,  5.7686e-02,\n",
       "           3.1050e-01, -1.3086e-01],\n",
       "         [ 1.7396e-01, -3.9617e-01,  1.8523e-01,  ...,  2.1972e-01,\n",
       "          -6.3581e-02, -9.5748e-02],\n",
       "         [ 1.4541e-01, -1.3795e-01, -5.5526e-02,  ...,  9.4149e-02,\n",
       "          -6.5945e-02, -5.9847e-02],\n",
       "         [ 2.4684e-01, -2.7655e-01,  9.4354e-02,  ..., -2.5030e-01,\n",
       "           2.8620e-01, -8.0246e-02]],\n",
       "\n",
       "        [[ 3.2054e-02, -9.8048e-02, -1.0432e-01,  ...,  1.6767e-01,\n",
       "          -2.9065e-01,  7.2968e-02],\n",
       "         [ 8.0188e-03,  2.1525e-01,  2.2751e-01,  ..., -2.0668e-02,\n",
       "          -3.8956e-04,  4.8769e-02],\n",
       "         [ 4.1621e-01,  2.3312e-01,  1.6848e-01,  ...,  9.4038e-02,\n",
       "          -2.2613e-01, -8.4307e-03],\n",
       "         [-2.4866e-01, -2.3536e-02, -1.3127e-01,  ..., -3.6530e-03,\n",
       "           5.2772e-02, -4.2564e-01],\n",
       "         [-4.3766e-01, -5.6205e-03,  4.7792e-01,  ..., -2.3176e-01,\n",
       "          -3.2930e-01,  4.2408e-01]]], grad_fn=<ViewBackward0>)"
      ]
     },
     "execution_count": 30,
     "metadata": {},
     "output_type": "execute_result"
    }
   ],
   "source": [
    "out"
   ]
  },
  {
   "attachments": {},
   "cell_type": "markdown",
   "metadata": {},
   "source": [
    "# PyTorch API\n",
    "## torch.nn\n",
    "- [torch.nn.Linear](https://pytorch.org/docs/stable/generated/torch.nn.Linear.html)：应用线性变换到输入数据：y = xA^T + b\n",
    "\n",
    "## torch\n",
    "- [torch.reshape](https://pytorch.org/docs/stable/generated/torch.reshape.html?highlight=reshape#torch.reshape)：将输入张量的形状改变为给定的形状\n",
    "- [torch.permute](https://pytorch.org/docs/stable/generated/torch.permute.html?highlight=permute#torch.permute)：返回一个输入张量的视图，该视图的维度以特定的顺序重新排列\n",
    "- [torch.chunk](https://pytorch.org/docs/stable/generated/torch.chunk.html?highlight=chunk#torch.chunk)：将输入张量切割为特定数量的块\n",
    "- [torch.matmul](https://pytorch.org/docs/stable/generated/torch.matmul.html?highlight=torch+matmul#torch.matmul)：执行两个张量之间的矩阵乘法\n",
    "- [torch.transpose](https://pytorch.org/docs/stable/generated/torch.transpose.html?highlight=torch+transpose#torch.transpose)：返回一个输入张量的转置，即互换两个维度\n",
    "- [torch.full](https://pytorch.org/docs/stable/generated/torch.transpose.html?highlight=torch+full#torch.full)：返回一个形状为 size，填充值为 fill_value 的张量\n",
    "- [torch.triu](https://pytorch.org/docs/stable/generated/torch.transpose.html?highlight=torch+triu#torch.triu)：返回一个张量，其中包含了输入矩阵的上三角部分，其他位置设为0\n",
    "\n",
    "## torch.nn.functional\n",
    "- [torch.nn.functional.softmax](https://pytorch.org/docs/stable/generated/torch.nn.functional.softmax.html?highlight=softmax#torch.nn.functional.softmax)：对输入数据进行 softmax 操作，这是一个常用于将实数向量规范化为概率分布的操作"
   ]
  }
 ],
 "metadata": {
  "kernelspec": {
   "display_name": "Python 3",
   "language": "python",
   "name": "python3"
  },
  "language_info": {
   "codemirror_mode": {
    "name": "ipython",
    "version": 3
   },
   "file_extension": ".py",
   "mimetype": "text/x-python",
   "name": "python",
   "nbconvert_exporter": "python",
   "pygments_lexer": "ipython3",
   "version": "3.10.9"
  },
  "orig_nbformat": 4
 },
 "nbformat": 4,
 "nbformat_minor": 2
}
